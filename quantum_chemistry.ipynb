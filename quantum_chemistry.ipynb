{
 "cells": [
  {
   "cell_type": "code",
   "execution_count": 1,
   "id": "656530e1",
   "metadata": {},
   "outputs": [],
   "source": [
    "import pennylane as qml\n",
    "from pennylane import numpy as np\n",
    "from pennylane import qchem"
   ]
  },
  {
   "cell_type": "code",
   "execution_count": 2,
   "id": "7d895914",
   "metadata": {},
   "outputs": [],
   "source": [
    "# Molécula com dois átomos de Hidrogênio equidistantes de 0.673 au\n",
    "symbols = [\"H\", \"H\"]\n",
    "coordinates = np.array([[-0.673,0,0],[0.673,0,0]])"
   ]
  },
  {
   "cell_type": "code",
   "execution_count": 5,
   "id": "e31c7c5a",
   "metadata": {},
   "outputs": [
    {
     "name": "stdout",
     "output_type": "stream",
     "text": [
      "4\n"
     ]
    }
   ],
   "source": [
    "H, qubits = qchem.molecular_hamiltonian(symbols, coordinates)\n",
    "print(qubits)\n",
    "# se printou 4, precisamos de 4 qubits para modelar essa molécula"
   ]
  },
  {
   "cell_type": "code",
   "execution_count": 6,
   "id": "c7c4a3a8",
   "metadata": {},
   "outputs": [
    {
     "name": "stdout",
     "output_type": "stream",
     "text": [
      "  (-0.23663556589795137) [Z2]\n",
      "+ (-0.23663556589795137) [Z3]\n",
      "+ (-0.059722777506507285) [I0]\n",
      "+ (0.1757479010688986) [Z1]\n",
      "+ (0.17574790106889865) [Z0]\n",
      "+ (0.12222295790716338) [Z0 Z2]\n",
      "+ (0.12222295790716338) [Z1 Z3]\n",
      "+ (0.16714112448986274) [Z0 Z3]\n",
      "+ (0.16714112448986274) [Z1 Z2]\n",
      "+ (0.17001200460622412) [Z0 Z1]\n",
      "+ (0.1756999882843958) [Z2 Z3]\n",
      "+ (-0.04491816658269933) [Y0 Y1 X2 X3]\n",
      "+ (-0.04491816658269933) [X0 X1 Y2 Y3]\n",
      "+ (0.04491816658269933) [Y0 X1 X2 Y3]\n",
      "+ (0.04491816658269933) [X0 Y1 Y2 X3]\n"
     ]
    }
   ],
   "source": [
    "print(H)"
   ]
  },
  {
   "cell_type": "code",
   "execution_count": 9,
   "id": "6c2765bb",
   "metadata": {},
   "outputs": [],
   "source": [
    "num_wires = qubits\n",
    "dev = qml.device(\"default.qubit\", wires=num_wires)\n",
    "\n",
    "@qml.qnode(dev)\n",
    "def exp_energy(state):\n",
    "    qml.BasisState(np.array(state), wires=range(num_wires))\n",
    "    return qml.expval(H)"
   ]
  },
  {
   "cell_type": "code",
   "execution_count": 10,
   "id": "af186af5",
   "metadata": {},
   "outputs": [
    {
     "data": {
      "text/plain": [
       "tensor(-0.4952711, requires_grad=True)"
      ]
     },
     "execution_count": 10,
     "metadata": {},
     "output_type": "execute_result"
    }
   ],
   "source": [
    "exp_energy([1,0,1,0])"
   ]
  },
  {
   "cell_type": "code",
   "execution_count": 11,
   "id": "fd5afb82",
   "metadata": {},
   "outputs": [],
   "source": [
    "hf =  qchem.hf_state(electrons = 2, orbitals = 4)"
   ]
  },
  {
   "cell_type": "code",
   "execution_count": 12,
   "id": "b7b3ff57",
   "metadata": {},
   "outputs": [
    {
     "data": {
      "text/plain": [
       "tensor(-1.11750588, requires_grad=True)"
      ]
     },
     "execution_count": 12,
     "metadata": {},
     "output_type": "execute_result"
    }
   ],
   "source": [
    "exp_energy(hf)"
   ]
  },
  {
   "cell_type": "code",
   "execution_count": null,
   "id": "6ec7a7ee",
   "metadata": {},
   "outputs": [],
   "source": []
  }
 ],
 "metadata": {
  "kernelspec": {
   "display_name": "Python 3 (ipykernel)",
   "language": "python",
   "name": "python3"
  },
  "language_info": {
   "codemirror_mode": {
    "name": "ipython",
    "version": 3
   },
   "file_extension": ".py",
   "mimetype": "text/x-python",
   "name": "python",
   "nbconvert_exporter": "python",
   "pygments_lexer": "ipython3",
   "version": "3.11.3"
  }
 },
 "nbformat": 4,
 "nbformat_minor": 5
}
