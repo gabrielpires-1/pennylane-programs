{
 "cells": [
  {
   "cell_type": "code",
   "execution_count": 9,
   "id": "4777fa0b",
   "metadata": {},
   "outputs": [],
   "source": [
    "import pennylane as qml\n",
    "from pennylane import numpy as np\n",
    "\n",
    "np.set_printoptions(precision=10)"
   ]
  },
  {
   "cell_type": "code",
   "execution_count": 10,
   "id": "6ef7a43f",
   "metadata": {},
   "outputs": [],
   "source": [
    "dev = qml.device(\"default.qubit\", wires=2)\n",
    "\n",
    "@qml.qnode(dev)\n",
    "def circuit(params):\n",
    "    qml.RY(params[0], wires=0)\n",
    "    qml.RX(params[1], wires=1)\n",
    "    return qml.expval(qml.PauliZ(0) + qml.PauliZ(1))"
   ]
  },
  {
   "cell_type": "code",
   "execution_count": 11,
   "id": "c176f659",
   "metadata": {},
   "outputs": [
    {
     "name": "stdout",
     "output_type": "stream",
     "text": [
      "1.414213562373095\n"
     ]
    }
   ],
   "source": [
    "params = np.array([np.pi/4, np.pi/4])\n",
    "print(circuit(params))"
   ]
  },
  {
   "cell_type": "code",
   "execution_count": 13,
   "id": "f2e42b15",
   "metadata": {},
   "outputs": [],
   "source": [
    "def my_finite_diff_grad(params, h=1.0e-7):\n",
    "    gradient = np.zeros_like(params)\n",
    "    \n",
    "    for i in range(len(params)):\n",
    "        params[i] += h\n",
    "        gradient[i] += circuit(params)\n",
    "        \n",
    "        params[i] -= 2*h\n",
    "        gradient[i] -= circuit(params)\n",
    "        \n",
    "        gradient[i] /= 2*h \n",
    "        \n",
    "        params[i] += h\n",
    "        \n",
    "    return gradient\n",
    "\n",
    "@qml.qnode(dev, diff_method=\"finite-diff\")\n",
    "def circuit_finite_diff(params):\n",
    "    qml.RY(params[0], wires=0)\n",
    "    qml.RX(params[1], wires=1)\n",
    "    return qml.expval(qml.PauliZ(0) + qml.PauliZ(1))"
   ]
  },
  {
   "cell_type": "code",
   "execution_count": 16,
   "id": "fe2affaa",
   "metadata": {},
   "outputs": [
    {
     "name": "stdout",
     "output_type": "stream",
     "text": [
      "[-0.7071067798 -0.707106782 ]\n",
      "[-0.7071068153 -0.7071068175]\n"
     ]
    }
   ],
   "source": [
    "params = np.array([np.pi/4, np.pi/4], requires_grad=True)\n",
    "\n",
    "print(my_finite_diff_grad(params))\n",
    "print(qml.grad(circuit_finite_diff)(params))"
   ]
  },
  {
   "cell_type": "code",
   "execution_count": 20,
   "id": "b1240f50",
   "metadata": {},
   "outputs": [],
   "source": [
    "def my_parameter_shift_grad(params, s=np.pi/3):\n",
    "    gradient = np.zeros_like(params)\n",
    "    \n",
    "    for i in range(len(params)):\n",
    "        params[i] += s\n",
    "        gradient[i] += circuit(params)\n",
    "        \n",
    "        params[i] -= 2*s\n",
    "        gradient[i] -= circuit(params)\n",
    "        \n",
    "        gradient[i] /= 2*np.sin(s)\n",
    "        \n",
    "        params[i] += s\n",
    "        \n",
    "    return gradient\n",
    "   \n",
    "@qml.qnode(dev, diff_method=\"parameter-shift\")\n",
    "def circuit_parameter_shift(params):\n",
    "    qml.RY(params[0], wires=0)\n",
    "    qml.RX(params[1], wires=1)\n",
    "    return qml.expval(qml.PauliZ(0) + qml.PauliZ(1))"
   ]
  },
  {
   "cell_type": "code",
   "execution_count": 21,
   "id": "d33a0767",
   "metadata": {},
   "outputs": [
    {
     "name": "stdout",
     "output_type": "stream",
     "text": [
      "[-0.7071067812 -0.7071067812]\n",
      "[-0.7071067812 -0.7071067812]\n"
     ]
    }
   ],
   "source": [
    "print(my_parameter_shift_grad(params))\n",
    "print(qml.grad(circuit_parameter_shift)(params))"
   ]
  },
  {
   "cell_type": "code",
   "execution_count": null,
   "id": "25b5d6f6",
   "metadata": {},
   "outputs": [],
   "source": []
  }
 ],
 "metadata": {
  "kernelspec": {
   "display_name": "Python 3 (ipykernel)",
   "language": "python",
   "name": "python3"
  },
  "language_info": {
   "codemirror_mode": {
    "name": "ipython",
    "version": 3
   },
   "file_extension": ".py",
   "mimetype": "text/x-python",
   "name": "python",
   "nbconvert_exporter": "python",
   "pygments_lexer": "ipython3",
   "version": "3.11.3"
  }
 },
 "nbformat": 4,
 "nbformat_minor": 5
}
