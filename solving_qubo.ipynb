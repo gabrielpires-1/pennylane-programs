{
 "cells": [
  {
   "cell_type": "code",
   "execution_count": 1,
   "id": "904e4b8c",
   "metadata": {},
   "outputs": [],
   "source": [
    "# This code was made with the youtube tutorial by Xanadu: How to solve the QUBO problem | PennyLane Tutorial\n",
    "\n",
    "# Events organization\n",
    "\n",
    "# 5 events: E1, E2, E3, E4, E5\n",
    "# 4 people: P1, P2, P3, P4\n",
    "\n",
    "# Preferences:\n",
    "\n",
    "    # P1 want to go to  E1 and E4\n",
    "    # P2 want to go to E2 and E3\n",
    "    # P3 want to go to E4 and E5\n",
    "    # P4 want to go to E3 and E4\n",
    "\n",
    "# Binary variables\n",
    "    \n",
    "    # xi = 0 if the i-th event is on Saturday\n",
    "    # xi = 1 if the i-th event is on Sunday\n",
    "\n",
    "# Formulation\n",
    "\n",
    "    # f(x1, x2, x3, x4, x5) = 4 + x1 + x2 + 2x3 +3x4 + x5 - 2x1x4 - 2x2x3 - 2x4x5 - 2x3x4\n",
    "    \n",
    "# Change of variable due to quantum computing\n",
    "\n",
    "    # xi = (1 - zi)/2\n",
    "    \n",
    "    # zi = 1 if the event is on Saturday\n",
    "    # zi = -1 if the event is on Sunday\n",
    "    \n",
    "# New formulation\n",
    "\n",
    "    # f(z1,z2,z3,z4,z5) = 6 - 1/2(z1z4) - 1/2(z2z3) - 1/2(z4z5) - 1/2(z3z4)\n"
   ]
  },
  {
   "cell_type": "code",
   "execution_count": 3,
   "id": "66615122",
   "metadata": {},
   "outputs": [
    {
     "name": "stdout",
     "output_type": "stream",
     "text": [
      "  (-6.0) [I1]\n",
      "+ (0.5) [Z1 Z4]\n",
      "+ (0.5) [Z2 Z3]\n",
      "+ (0.5) [Z4 Z5]\n",
      "+ (0.5) [Z3 Z4]\n"
     ]
    }
   ],
   "source": [
    "import pennylane as qml\n",
    "from pennylane import numpy as np\n",
    "\n",
    "# H = Hamiltonian\n",
    "# Change the signs to minimize the expected value, by that, we obtain the maximum of the other formulation\n",
    "H = - 6 * qml.Identity(1) + \\\n",
    "    0.5 * qml.PauliZ(1) @ qml.PauliZ(4) + \\\n",
    "    0.5 * qml.PauliZ(2) @ qml.PauliZ(3) + \\\n",
    "    0.5 * qml.PauliZ(4) @ qml.PauliZ(5) + \\\n",
    "    0.5 *qml.PauliZ(3) @ qml.PauliZ(4)\n",
    "\n",
    "print(H)"
   ]
  },
  {
   "cell_type": "code",
   "execution_count": 5,
   "id": "847f9213",
   "metadata": {},
   "outputs": [
    {
     "data": {
      "text/plain": [
       "tensor(-4., requires_grad=True)"
      ]
     },
     "execution_count": 5,
     "metadata": {},
     "output_type": "execute_result"
    }
   ],
   "source": [
    "dev = qml.device(\"default.qubit\", wires = H.wires)\n",
    "\n",
    "@qml.qnode(dev)\n",
    "def circuit(params):\n",
    "    \n",
    "    for param, wire in zip(params, H.wires):\n",
    "        qml.RY(param, wires = wire)\n",
    "        \n",
    "    return qml.expval(H)\n",
    "\n",
    "circuit([0,0,0,0,0])"
   ]
  },
  {
   "cell_type": "code",
   "execution_count": 6,
   "id": "8326ed9c",
   "metadata": {},
   "outputs": [
    {
     "data": {
      "text/plain": [
       "tensor(-8., requires_grad=True)"
      ]
     },
     "execution_count": 6,
     "metadata": {},
     "output_type": "execute_result"
    }
   ],
   "source": [
    "params = np.random.rand(len(H.wires))\n",
    "opt  = qml.AdagradOptimizer(stepsize = 0.5)\n",
    "epochs = 200\n",
    "\n",
    "for epoch in range(epochs):\n",
    "    params = opt.step(circuit, params)\n",
    "    \n",
    "circuit(params)"
   ]
  },
  {
   "cell_type": "code",
   "execution_count": 7,
   "id": "42baa2c5",
   "metadata": {},
   "outputs": [
    {
     "data": {
      "text/plain": [
       "array([1, 0, 1, 0, 1], dtype=int64)"
      ]
     },
     "execution_count": 7,
     "metadata": {},
     "output_type": "execute_result"
    }
   ],
   "source": [
    "dev = qml.device(\"default.qubit\", wires = H.wires, shots=1)\n",
    "\n",
    "@qml.qnode(dev)\n",
    "def circuit(params):\n",
    "    \n",
    "    for param, wire in zip(params, H.wires):\n",
    "        qml.RY(param, wires = wire)\n",
    "        \n",
    "    return qml.sample()\n",
    "\n",
    "circuit(params)\n",
    "\n",
    "# Response: [1,0,1,0,1]\n",
    "# E1, E3, E5 happens on Sunday\n",
    "# E2, E4 happens on Saturday"
   ]
  },
  {
   "cell_type": "code",
   "execution_count": null,
   "id": "c7d8100e",
   "metadata": {},
   "outputs": [],
   "source": [
    " "
   ]
  }
 ],
 "metadata": {
  "kernelspec": {
   "display_name": "Python 3 (ipykernel)",
   "language": "python",
   "name": "python3"
  },
  "language_info": {
   "codemirror_mode": {
    "name": "ipython",
    "version": 3
   },
   "file_extension": ".py",
   "mimetype": "text/x-python",
   "name": "python",
   "nbconvert_exporter": "python",
   "pygments_lexer": "ipython3",
   "version": "3.11.3"
  }
 },
 "nbformat": 4,
 "nbformat_minor": 5
}
