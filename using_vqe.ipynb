{
 "cells": [
  {
   "cell_type": "code",
   "execution_count": 1,
   "id": "800e99e9",
   "metadata": {},
   "outputs": [],
   "source": [
    "# Steps to do the VQE\n",
    "    # 1. Find Molecular Hamiltonian\n",
    "    # 2. Prepare trial ground state\n",
    "    # 3. Minimize <H>"
   ]
  },
  {
   "cell_type": "code",
   "execution_count": 2,
   "id": "dff7ee9d",
   "metadata": {},
   "outputs": [],
   "source": [
    "import pennylane as qml\n",
    "from pennylane import numpy as np\n",
    "from pennylane import qchem"
   ]
  },
  {
   "cell_type": "code",
   "execution_count": 4,
   "id": "d84a3930",
   "metadata": {},
   "outputs": [],
   "source": [
    "symbols = [\"H\", \"H\", \"H\"]\n",
    "# Define the geometry of the molecule\n",
    "coordinates = np.array([[0.0102, 0.0442, 0.0],[0.9867,1.6303,0.0],[1.8720,-0.0085,0.0]])"
   ]
  },
  {
   "cell_type": "code",
   "execution_count": 5,
   "id": "dc1242e7",
   "metadata": {},
   "outputs": [],
   "source": [
    "hamiltonian, qubits = qchem.molecular_hamiltonian(symbols,\n",
    "                                                  coordinates, \n",
    "                                                  charge = 1)"
   ]
  },
  {
   "cell_type": "code",
   "execution_count": 6,
   "id": "f8d9918a",
   "metadata": {},
   "outputs": [
    {
     "data": {
      "text/plain": [
       "6"
      ]
     },
     "execution_count": 6,
     "metadata": {},
     "output_type": "execute_result"
    }
   ],
   "source": [
    "qubits"
   ]
  },
  {
   "cell_type": "code",
   "execution_count": 7,
   "id": "a347f6ac",
   "metadata": {},
   "outputs": [],
   "source": [
    "hf = qchem.hf_state(electrons = 2, orbitals = qubits)"
   ]
  },
  {
   "cell_type": "code",
   "execution_count": 8,
   "id": "2bc359c4",
   "metadata": {},
   "outputs": [
    {
     "data": {
      "text/plain": [
       "tensor([1, 1, 0, 0, 0, 0], requires_grad=True)"
      ]
     },
     "execution_count": 8,
     "metadata": {},
     "output_type": "execute_result"
    }
   ],
   "source": [
    "hf"
   ]
  },
  {
   "cell_type": "code",
   "execution_count": 9,
   "id": "4cc95df0",
   "metadata": {},
   "outputs": [],
   "source": [
    "num_wires = qubits\n",
    "dev = qml.device(\"default.qubit\", wires=num_wires)"
   ]
  },
  {
   "cell_type": "code",
   "execution_count": 10,
   "id": "433944d6",
   "metadata": {},
   "outputs": [],
   "source": [
    "@qml.qnode(dev)\n",
    "def exp_energy(state):\n",
    "    qml.BasisState(np.array(state), wires=range(num_wires))\n",
    "    return qml.expval(hamiltonian)"
   ]
  },
  {
   "cell_type": "code",
   "execution_count": 11,
   "id": "947a795a",
   "metadata": {},
   "outputs": [
    {
     "data": {
      "text/plain": [
       "tensor(-1.24655016, requires_grad=True)"
      ]
     },
     "execution_count": 11,
     "metadata": {},
     "output_type": "execute_result"
    }
   ],
   "source": [
    "exp_energy(hf)"
   ]
  },
  {
   "cell_type": "code",
   "execution_count": 12,
   "id": "918f8074",
   "metadata": {},
   "outputs": [],
   "source": [
    "def ansatz(params):\n",
    "    qml.BasisState(hf, wires=range(num_wires))\n",
    "    qml.DoubleExcitation(params[0], wires=[0,1,2,3])\n",
    "    qml.DoubleExcitation(params[1], wires=[0,1,4,5])"
   ]
  },
  {
   "cell_type": "code",
   "execution_count": 13,
   "id": "130ae628",
   "metadata": {},
   "outputs": [],
   "source": [
    "@qml.qnode(dev)\n",
    "def cost_function(params):\n",
    "    ansatz(params)\n",
    "    return qml.expval(hamiltonian)"
   ]
  },
  {
   "cell_type": "code",
   "execution_count": 14,
   "id": "8a14d7dd",
   "metadata": {},
   "outputs": [
    {
     "data": {
      "text/plain": [
       "tensor(-1.26796721, requires_grad=True)"
      ]
     },
     "execution_count": 14,
     "metadata": {},
     "output_type": "execute_result"
    }
   ],
   "source": [
    "cost_function([0.1,0.1])"
   ]
  },
  {
   "cell_type": "code",
   "execution_count": 15,
   "id": "e50c895b",
   "metadata": {},
   "outputs": [
    {
     "name": "stdout",
     "output_type": "stream",
     "text": [
      "Step = 0, Energy = -1.26070025 Ha\n",
      "Step = 2, Energy = -1.27115671 Ha\n",
      "Step = 4, Energy = -1.27365804 Ha\n",
      "Step = 6, Energy = -1.27425241 Ha\n",
      "Step = 8, Energy = -1.27439362 Ha\n",
      "Step = 10, Energy = -1.27442718 Ha\n",
      "Step = 12, Energy = -1.27443517 Ha\n",
      "Step = 14, Energy = -1.27443707 Ha\n",
      "Step = 16, Energy = -1.27443752 Ha\n",
      "Step = 18, Energy = -1.27443763 Ha\n"
     ]
    }
   ],
   "source": [
    "opt = qml.GradientDescentOptimizer(stepsize=0.4)\n",
    "theta = np.array([0.0,0.0], requires_grad = True)\n",
    "\n",
    "energy = [cost_function(theta)]\n",
    "angle = [theta]\n",
    "max_iterations = 20\n",
    "\n",
    "for n in range(max_iterations):\n",
    "    theta, prev_energy = opt.step_and_cost(cost_function, theta)\n",
    "    \n",
    "    energy.append(cost_function(theta))\n",
    "    angle.append(theta)\n",
    "    \n",
    "    if n%2 == 0:\n",
    "        print(f\"Step = {n}, Energy = {energy[-1]:.8f} Ha\")"
   ]
  },
  {
   "cell_type": "code",
   "execution_count": 16,
   "id": "4c2c82c8",
   "metadata": {},
   "outputs": [
    {
     "name": "stdout",
     "output_type": "stream",
     "text": [
      "\n",
      "Final ground energy: -1.27443764 Ha\n",
      "\n",
      "Final angle parameters: 0.19203468 0.19290335\n"
     ]
    }
   ],
   "source": [
    "print(\"\\n\" f\"Final ground energy: {energy[-1]:.8f} Ha\")\n",
    "print(\"\\n\" f\"Final angle parameters: {theta[0]:.8f} {theta[1]:.8f}\")"
   ]
  },
  {
   "cell_type": "code",
   "execution_count": 17,
   "id": "7e8d179b",
   "metadata": {},
   "outputs": [],
   "source": [
    "@qml.qnode(dev)\n",
    "def ground_state(params):\n",
    "    ansatz(params)\n",
    "    return qml.state()"
   ]
  },
  {
   "cell_type": "code",
   "execution_count": 18,
   "id": "1e5c4e92",
   "metadata": {},
   "outputs": [
    {
     "data": {
      "text/plain": [
       "tensor([ 0.        +0.j,  0.        +0.j,  0.        +0.j,\n",
       "        -0.09585862+0.j,  0.        +0.j,  0.        +0.j,\n",
       "         0.        +0.j,  0.        +0.j,  0.        +0.j,\n",
       "         0.        +0.j,  0.        +0.j,  0.        +0.j,\n",
       "        -0.09586987+0.j,  0.        +0.j,  0.        +0.j,\n",
       "         0.        +0.j,  0.        +0.j,  0.        +0.j,\n",
       "         0.        +0.j,  0.        +0.j,  0.        +0.j,\n",
       "         0.        +0.j,  0.        +0.j,  0.        +0.j,\n",
       "         0.        +0.j,  0.        +0.j,  0.        +0.j,\n",
       "         0.        +0.j,  0.        +0.j,  0.        +0.j,\n",
       "         0.        +0.j,  0.        +0.j,  0.        +0.j,\n",
       "         0.        +0.j,  0.        +0.j,  0.        +0.j,\n",
       "         0.        +0.j,  0.        +0.j,  0.        +0.j,\n",
       "         0.        +0.j,  0.        +0.j,  0.        +0.j,\n",
       "         0.        +0.j,  0.        +0.j,  0.        +0.j,\n",
       "         0.        +0.j,  0.        +0.j,  0.        +0.j,\n",
       "         0.99076743+0.j,  0.        +0.j,  0.        +0.j,\n",
       "         0.        +0.j,  0.        +0.j,  0.        +0.j,\n",
       "         0.        +0.j,  0.        +0.j,  0.        +0.j,\n",
       "         0.        +0.j,  0.        +0.j,  0.        +0.j,\n",
       "         0.        +0.j,  0.        +0.j,  0.        +0.j,\n",
       "         0.        +0.j], requires_grad=True)"
      ]
     },
     "execution_count": 18,
     "metadata": {},
     "output_type": "execute_result"
    }
   ],
   "source": [
    "ground_state(theta)"
   ]
  },
  {
   "cell_type": "code",
   "execution_count": null,
   "id": "de3dd5a1",
   "metadata": {},
   "outputs": [],
   "source": []
  }
 ],
 "metadata": {
  "kernelspec": {
   "display_name": "Python 3 (ipykernel)",
   "language": "python",
   "name": "python3"
  },
  "language_info": {
   "codemirror_mode": {
    "name": "ipython",
    "version": 3
   },
   "file_extension": ".py",
   "mimetype": "text/x-python",
   "name": "python",
   "nbconvert_exporter": "python",
   "pygments_lexer": "ipython3",
   "version": "3.11.3"
  }
 },
 "nbformat": 4,
 "nbformat_minor": 5
}
